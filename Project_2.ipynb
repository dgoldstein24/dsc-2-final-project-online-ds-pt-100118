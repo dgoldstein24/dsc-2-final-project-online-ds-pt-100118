{
 "cells": [
  {
   "cell_type": "code",
   "execution_count": 1,
   "metadata": {},
   "outputs": [
    {
     "name": "stderr",
     "output_type": "stream",
     "text": [
      "/Users/dgoldstein24/anaconda3/lib/python3.6/site-packages/sklearn/cross_validation.py:41: DeprecationWarning: This module was deprecated in version 0.18 in favor of the model_selection module into which all the refactored classes and functions are moved. Also note that the interface of the new CV iterators are different from that of this module. This module will be removed in 0.20.\n",
      "  \"This module will be removed in 0.20.\", DeprecationWarning)\n"
     ]
    }
   ],
   "source": [
    "#import functions\n",
    "\n",
    "import pandas as pd\n",
    "import numpy as np\n",
    "import matplotlib.pyplot as plt\n",
    "import seaborn as sns\n",
    "import sqlite3\n",
    "\n",
    "from scipy import stats\n",
    "\n",
    "from sklearn.model_selection import KFold\n",
    "from sklearn.linear_model import LinearRegression\n",
    "from sklearn.cross_validation import cross_val_score\n",
    "from sklearn import preprocessing \n",
    "\n",
    "\n"
   ]
  },
  {
   "cell_type": "code",
   "execution_count": 2,
   "metadata": {},
   "outputs": [],
   "source": [
    "#connect sqlite3 to the Northwind Database\n",
    "connection = sqlite3.connect('Northwind_small.sqlite')"
   ]
  },
  {
   "cell_type": "code",
   "execution_count": 3,
   "metadata": {},
   "outputs": [],
   "source": [
    "#Attach cursor to connection in order to execute SQL commands\n",
    "cursor = connection.cursor()"
   ]
  },
  {
   "cell_type": "code",
   "execution_count": 4,
   "metadata": {},
   "outputs": [
    {
     "data": {
      "text/plain": [
       "[('Employee',),\n",
       " ('Category',),\n",
       " ('Customer',),\n",
       " ('Shipper',),\n",
       " ('Supplier',),\n",
       " ('Order',),\n",
       " ('Product',),\n",
       " ('OrderDetail',),\n",
       " ('CustomerCustomerDemo',),\n",
       " ('CustomerDemographic',),\n",
       " ('Region',),\n",
       " ('Territory',),\n",
       " ('EmployeeTerritory',),\n",
       " ('customers',)]"
      ]
     },
     "execution_count": 4,
     "metadata": {},
     "output_type": "execute_result"
    }
   ],
   "source": [
    "#Execute SQL command to obtain list of table names\n",
    "table_names = cursor.execute('''SELECT name FROM sqlite_master WHERE type = 'table';''').fetchall()\n",
    "table_names"
   ]
  },
  {
   "cell_type": "code",
   "execution_count": 6,
   "metadata": {},
   "outputs": [
    {
     "data": {
      "text/plain": [
       "2155"
      ]
     },
     "execution_count": 6,
     "metadata": {},
     "output_type": "execute_result"
    }
   ],
   "source": [
    "#Execute SQL command to obtain number of OrderIDs\n",
    "order_ids = list((cursor.execute('''SELECT OrderID FROM OrderDetail;''').fetchall()))\n",
    "len(order_ids)"
   ]
  },
  {
   "cell_type": "code",
   "execution_count": 7,
   "metadata": {},
   "outputs": [
    {
     "data": {
      "text/plain": [
       "830"
      ]
     },
     "execution_count": 7,
     "metadata": {},
     "output_type": "execute_result"
    }
   ],
   "source": [
    "#Execute SQL command to obtain number of unique OrderIDs\n",
    "unique_orders = set((cursor.execute('''SELECT OrderID FROM OrderDetail;''').fetchall()))\n",
    "len(unique_orders)"
   ]
  },
  {
   "cell_type": "code",
   "execution_count": 8,
   "metadata": {},
   "outputs": [
    {
     "data": {
      "text/html": [
       "<div>\n",
       "<style scoped>\n",
       "    .dataframe tbody tr th:only-of-type {\n",
       "        vertical-align: middle;\n",
       "    }\n",
       "\n",
       "    .dataframe tbody tr th {\n",
       "        vertical-align: top;\n",
       "    }\n",
       "\n",
       "    .dataframe thead th {\n",
       "        text-align: right;\n",
       "    }\n",
       "</style>\n",
       "<table border=\"1\" class=\"dataframe\">\n",
       "  <thead>\n",
       "    <tr style=\"text-align: right;\">\n",
       "      <th></th>\n",
       "      <th>x</th>\n",
       "      <th>OrderID</th>\n",
       "      <th>ProductID</th>\n",
       "      <th>UnitPrice</th>\n",
       "      <th>Quantity</th>\n",
       "      <th>Discount</th>\n",
       "    </tr>\n",
       "  </thead>\n",
       "  <tbody>\n",
       "    <tr>\n",
       "      <th>0</th>\n",
       "      <td>10248/11</td>\n",
       "      <td>10248</td>\n",
       "      <td>11</td>\n",
       "      <td>14.0</td>\n",
       "      <td>12</td>\n",
       "      <td>0.0</td>\n",
       "    </tr>\n",
       "    <tr>\n",
       "      <th>1</th>\n",
       "      <td>10248/42</td>\n",
       "      <td>10248</td>\n",
       "      <td>42</td>\n",
       "      <td>9.8</td>\n",
       "      <td>10</td>\n",
       "      <td>0.0</td>\n",
       "    </tr>\n",
       "    <tr>\n",
       "      <th>2</th>\n",
       "      <td>10248/72</td>\n",
       "      <td>10248</td>\n",
       "      <td>72</td>\n",
       "      <td>34.8</td>\n",
       "      <td>5</td>\n",
       "      <td>0.0</td>\n",
       "    </tr>\n",
       "    <tr>\n",
       "      <th>3</th>\n",
       "      <td>10249/14</td>\n",
       "      <td>10249</td>\n",
       "      <td>14</td>\n",
       "      <td>18.6</td>\n",
       "      <td>9</td>\n",
       "      <td>0.0</td>\n",
       "    </tr>\n",
       "    <tr>\n",
       "      <th>4</th>\n",
       "      <td>10249/51</td>\n",
       "      <td>10249</td>\n",
       "      <td>51</td>\n",
       "      <td>42.4</td>\n",
       "      <td>40</td>\n",
       "      <td>0.0</td>\n",
       "    </tr>\n",
       "  </tbody>\n",
       "</table>\n",
       "</div>"
      ],
      "text/plain": [
       "          x  OrderID  ProductID  UnitPrice  Quantity  Discount\n",
       "0  10248/11    10248         11       14.0        12       0.0\n",
       "1  10248/42    10248         42        9.8        10       0.0\n",
       "2  10248/72    10248         72       34.8         5       0.0\n",
       "3  10249/14    10249         14       18.6         9       0.0\n",
       "4  10249/51    10249         51       42.4        40       0.0"
      ]
     },
     "execution_count": 8,
     "metadata": {},
     "output_type": "execute_result"
    }
   ],
   "source": [
    "#Execute SQL command to obtain OrderID table information\n",
    "order_details = cursor.execute('''SELECT * FROM OrderDetail;''').fetchall()\n",
    "\n",
    "#Convert query into Pandas DataFrame\n",
    "details_df = pd.DataFrame(order_details, columns = ['x','OrderID', 'ProductID', 'UnitPrice', 'Quantity', 'Discount'])\n",
    "details_df.head()"
   ]
  },
  {
   "cell_type": "code",
   "execution_count": 9,
   "metadata": {},
   "outputs": [],
   "source": [
    "#drop irrelevant columns\n",
    "details_df = details_df.drop(['x'], axis = 1)"
   ]
  },
  {
   "cell_type": "code",
   "execution_count": 10,
   "metadata": {},
   "outputs": [
    {
     "data": {
      "text/html": [
       "<div>\n",
       "<style scoped>\n",
       "    .dataframe tbody tr th:only-of-type {\n",
       "        vertical-align: middle;\n",
       "    }\n",
       "\n",
       "    .dataframe tbody tr th {\n",
       "        vertical-align: top;\n",
       "    }\n",
       "\n",
       "    .dataframe thead th {\n",
       "        text-align: right;\n",
       "    }\n",
       "</style>\n",
       "<table border=\"1\" class=\"dataframe\">\n",
       "  <thead>\n",
       "    <tr style=\"text-align: right;\">\n",
       "      <th></th>\n",
       "      <th>OrderID</th>\n",
       "      <th>ProductID</th>\n",
       "      <th>UnitPrice</th>\n",
       "      <th>Quantity</th>\n",
       "      <th>Discount</th>\n",
       "    </tr>\n",
       "  </thead>\n",
       "  <tbody>\n",
       "    <tr>\n",
       "      <th>0</th>\n",
       "      <td>10248</td>\n",
       "      <td>11</td>\n",
       "      <td>14.0</td>\n",
       "      <td>12</td>\n",
       "      <td>0.0</td>\n",
       "    </tr>\n",
       "    <tr>\n",
       "      <th>1</th>\n",
       "      <td>10248</td>\n",
       "      <td>42</td>\n",
       "      <td>9.8</td>\n",
       "      <td>10</td>\n",
       "      <td>0.0</td>\n",
       "    </tr>\n",
       "    <tr>\n",
       "      <th>2</th>\n",
       "      <td>10248</td>\n",
       "      <td>72</td>\n",
       "      <td>34.8</td>\n",
       "      <td>5</td>\n",
       "      <td>0.0</td>\n",
       "    </tr>\n",
       "    <tr>\n",
       "      <th>3</th>\n",
       "      <td>10249</td>\n",
       "      <td>14</td>\n",
       "      <td>18.6</td>\n",
       "      <td>9</td>\n",
       "      <td>0.0</td>\n",
       "    </tr>\n",
       "    <tr>\n",
       "      <th>4</th>\n",
       "      <td>10249</td>\n",
       "      <td>51</td>\n",
       "      <td>42.4</td>\n",
       "      <td>40</td>\n",
       "      <td>0.0</td>\n",
       "    </tr>\n",
       "  </tbody>\n",
       "</table>\n",
       "</div>"
      ],
      "text/plain": [
       "   OrderID  ProductID  UnitPrice  Quantity  Discount\n",
       "0    10248         11       14.0        12       0.0\n",
       "1    10248         42        9.8        10       0.0\n",
       "2    10248         72       34.8         5       0.0\n",
       "3    10249         14       18.6         9       0.0\n",
       "4    10249         51       42.4        40       0.0"
      ]
     },
     "execution_count": 10,
     "metadata": {},
     "output_type": "execute_result"
    }
   ],
   "source": [
    "details_df.head()"
   ]
  },
  {
   "cell_type": "code",
   "execution_count": 11,
   "metadata": {},
   "outputs": [
    {
     "data": {
      "text/plain": [
       "0.00    1317\n",
       "0.05     185\n",
       "0.10     173\n",
       "0.20     161\n",
       "0.15     157\n",
       "0.25     154\n",
       "0.03       3\n",
       "0.02       2\n",
       "0.01       1\n",
       "0.04       1\n",
       "0.06       1\n",
       "Name: Discount, dtype: int64"
      ]
     },
     "execution_count": 11,
     "metadata": {},
     "output_type": "execute_result"
    }
   ],
   "source": [
    "# Look at discount counts\n",
    "details_df['Discount'].value_counts() "
   ]
  },
  {
   "cell_type": "code",
   "execution_count": 12,
   "metadata": {},
   "outputs": [
    {
     "data": {
      "text/html": [
       "<div>\n",
       "<style scoped>\n",
       "    .dataframe tbody tr th:only-of-type {\n",
       "        vertical-align: middle;\n",
       "    }\n",
       "\n",
       "    .dataframe tbody tr th {\n",
       "        vertical-align: top;\n",
       "    }\n",
       "\n",
       "    .dataframe thead th {\n",
       "        text-align: right;\n",
       "    }\n",
       "</style>\n",
       "<table border=\"1\" class=\"dataframe\">\n",
       "  <thead>\n",
       "    <tr style=\"text-align: right;\">\n",
       "      <th></th>\n",
       "      <th>OrderID</th>\n",
       "      <th>Quantity</th>\n",
       "      <th>Discount</th>\n",
       "    </tr>\n",
       "  </thead>\n",
       "  <tbody>\n",
       "    <tr>\n",
       "      <th>0</th>\n",
       "      <td>10248</td>\n",
       "      <td>27</td>\n",
       "      <td>0.00</td>\n",
       "    </tr>\n",
       "    <tr>\n",
       "      <th>1</th>\n",
       "      <td>10249</td>\n",
       "      <td>49</td>\n",
       "      <td>0.00</td>\n",
       "    </tr>\n",
       "    <tr>\n",
       "      <th>2</th>\n",
       "      <td>10250</td>\n",
       "      <td>60</td>\n",
       "      <td>0.15</td>\n",
       "    </tr>\n",
       "    <tr>\n",
       "      <th>3</th>\n",
       "      <td>10251</td>\n",
       "      <td>41</td>\n",
       "      <td>0.05</td>\n",
       "    </tr>\n",
       "    <tr>\n",
       "      <th>4</th>\n",
       "      <td>10252</td>\n",
       "      <td>105</td>\n",
       "      <td>0.05</td>\n",
       "    </tr>\n",
       "  </tbody>\n",
       "</table>\n",
       "</div>"
      ],
      "text/plain": [
       "   OrderID  Quantity  Discount\n",
       "0    10248        27      0.00\n",
       "1    10249        49      0.00\n",
       "2    10250        60      0.15\n",
       "3    10251        41      0.05\n",
       "4    10252       105      0.05"
      ]
     },
     "execution_count": 12,
     "metadata": {},
     "output_type": "execute_result"
    }
   ],
   "source": [
    "#create new DataFrame in which the quanitity for Order_ID is totaled\n",
    "# I am defining quantity as total amount of goods purchased in an order\n",
    "quantity = details_df.groupby(details_df['OrderID'], as_index = False).sum()\n",
    "\n",
    "#create new DataFrame with same grouping as quantity but maintaining the discount amount per order\n",
    "discount = details_df.groupby(details_df['OrderID'], as_index = False).max()\n",
    "\n",
    "#create a a DataFrame with the total quantity of items and discount for each order\n",
    "df_1 = discount.copy()\n",
    "df_1['Quantity'] = quantity['Quantity']\n",
    "df_1 = df_1.drop(['ProductID', 'UnitPrice'], axis = 1)\n",
    "df_1.head()"
   ]
  },
  {
   "cell_type": "markdown",
   "metadata": {},
   "source": [
    "null hypothesis: there is no significant difference between order quantity with or without a discount. In other words, the mean difference between the discount and non-discount group is zero\n",
    "\n",
    "alternative hypothesis: a discount significantly affects the quantity of items purchased in an order\n",
    "\n",
    "this test is two-tailed: although a negative relationship is unlikely, the question asks for an overall effect made by disount, not just an increase"
   ]
  },
  {
   "cell_type": "markdown",
   "metadata": {},
   "source": [
    "# Do discounts have a statistically significant effect on the number of proudcts customers order?"
   ]
  },
  {
   "cell_type": "code",
   "execution_count": 13,
   "metadata": {},
   "outputs": [],
   "source": [
    "#create two sample distributions: one with a discount and one without"
   ]
  },
  {
   "cell_type": "code",
   "execution_count": 14,
   "metadata": {},
   "outputs": [],
   "source": [
    "without_discount = df_1[df_1['Discount'] == 0]\n",
    "with_discount = df_1[df_1['Discount'] != 0]"
   ]
  },
  {
   "cell_type": "code",
   "execution_count": 15,
   "metadata": {},
   "outputs": [
    {
     "data": {
      "text/html": [
       "<div>\n",
       "<style scoped>\n",
       "    .dataframe tbody tr th:only-of-type {\n",
       "        vertical-align: middle;\n",
       "    }\n",
       "\n",
       "    .dataframe tbody tr th {\n",
       "        vertical-align: top;\n",
       "    }\n",
       "\n",
       "    .dataframe thead th {\n",
       "        text-align: right;\n",
       "    }\n",
       "</style>\n",
       "<table border=\"1\" class=\"dataframe\">\n",
       "  <thead>\n",
       "    <tr style=\"text-align: right;\">\n",
       "      <th></th>\n",
       "      <th>OrderID</th>\n",
       "      <th>Quantity</th>\n",
       "      <th>Discount</th>\n",
       "    </tr>\n",
       "  </thead>\n",
       "  <tbody>\n",
       "    <tr>\n",
       "      <th>2</th>\n",
       "      <td>10250</td>\n",
       "      <td>60</td>\n",
       "      <td>0.15</td>\n",
       "    </tr>\n",
       "    <tr>\n",
       "      <th>3</th>\n",
       "      <td>10251</td>\n",
       "      <td>41</td>\n",
       "      <td>0.05</td>\n",
       "    </tr>\n",
       "    <tr>\n",
       "      <th>4</th>\n",
       "      <td>10252</td>\n",
       "      <td>105</td>\n",
       "      <td>0.05</td>\n",
       "    </tr>\n",
       "    <tr>\n",
       "      <th>6</th>\n",
       "      <td>10254</td>\n",
       "      <td>57</td>\n",
       "      <td>0.15</td>\n",
       "    </tr>\n",
       "    <tr>\n",
       "      <th>10</th>\n",
       "      <td>10258</td>\n",
       "      <td>121</td>\n",
       "      <td>0.20</td>\n",
       "    </tr>\n",
       "  </tbody>\n",
       "</table>\n",
       "</div>"
      ],
      "text/plain": [
       "    OrderID  Quantity  Discount\n",
       "2     10250        60      0.15\n",
       "3     10251        41      0.05\n",
       "4     10252       105      0.05\n",
       "6     10254        57      0.15\n",
       "10    10258       121      0.20"
      ]
     },
     "execution_count": 15,
     "metadata": {},
     "output_type": "execute_result"
    }
   ],
   "source": [
    "with_discount.head()"
   ]
  },
  {
   "cell_type": "code",
   "execution_count": 16,
   "metadata": {},
   "outputs": [
    {
     "data": {
      "text/html": [
       "<div>\n",
       "<style scoped>\n",
       "    .dataframe tbody tr th:only-of-type {\n",
       "        vertical-align: middle;\n",
       "    }\n",
       "\n",
       "    .dataframe tbody tr th {\n",
       "        vertical-align: top;\n",
       "    }\n",
       "\n",
       "    .dataframe thead th {\n",
       "        text-align: right;\n",
       "    }\n",
       "</style>\n",
       "<table border=\"1\" class=\"dataframe\">\n",
       "  <thead>\n",
       "    <tr style=\"text-align: right;\">\n",
       "      <th></th>\n",
       "      <th>OrderID</th>\n",
       "      <th>Quantity</th>\n",
       "      <th>Discount</th>\n",
       "    </tr>\n",
       "  </thead>\n",
       "  <tbody>\n",
       "    <tr>\n",
       "      <th>0</th>\n",
       "      <td>10248</td>\n",
       "      <td>27</td>\n",
       "      <td>0.0</td>\n",
       "    </tr>\n",
       "    <tr>\n",
       "      <th>1</th>\n",
       "      <td>10249</td>\n",
       "      <td>49</td>\n",
       "      <td>0.0</td>\n",
       "    </tr>\n",
       "    <tr>\n",
       "      <th>5</th>\n",
       "      <td>10253</td>\n",
       "      <td>102</td>\n",
       "      <td>0.0</td>\n",
       "    </tr>\n",
       "    <tr>\n",
       "      <th>7</th>\n",
       "      <td>10255</td>\n",
       "      <td>110</td>\n",
       "      <td>0.0</td>\n",
       "    </tr>\n",
       "    <tr>\n",
       "      <th>8</th>\n",
       "      <td>10256</td>\n",
       "      <td>27</td>\n",
       "      <td>0.0</td>\n",
       "    </tr>\n",
       "  </tbody>\n",
       "</table>\n",
       "</div>"
      ],
      "text/plain": [
       "   OrderID  Quantity  Discount\n",
       "0    10248        27       0.0\n",
       "1    10249        49       0.0\n",
       "5    10253       102       0.0\n",
       "7    10255       110       0.0\n",
       "8    10256        27       0.0"
      ]
     },
     "execution_count": 16,
     "metadata": {},
     "output_type": "execute_result"
    }
   ],
   "source": [
    "without_discount.head()"
   ]
  },
  {
   "cell_type": "code",
   "execution_count": 17,
   "metadata": {},
   "outputs": [
    {
     "data": {
      "text/plain": [
       "<matplotlib.legend.Legend at 0x11d3c9e10>"
      ]
     },
     "execution_count": 17,
     "metadata": {},
     "output_type": "execute_result"
    },
    {
     "data": {
      "image/png": "[encoded data removed]",
      "text/plain": [
       "<Figure size 1080x648 with 2 Axes>"
      ]
     },
     "metadata": {},
     "output_type": "display_data"
    }
   ],
   "source": [
    "#Plot distributions\n",
    "fig, (ax1, ax2) = plt.subplots(figsize = (15,9), sharey = True, nrows = 1, ncols = 2)\n",
    "#Plot without discount distribution\n",
    "ax1.hist(without_discount['Quantity'], color = 'blue', label = 'Without Discount', bins = 15)\n",
    "#Plot with discount distribution\n",
    "ax2.hist(with_discount['Quantity'], color = 'red', label = 'With Discount', bins = 15)\n",
    "fig.legend()"
   ]
  },
  {
   "cell_type": "code",
   "execution_count": 18,
   "metadata": {},
   "outputs": [
    {
     "data": {
      "text/plain": [
       "52.44"
      ]
     },
     "execution_count": 18,
     "metadata": {},
     "output_type": "execute_result"
    }
   ],
   "source": [
    "#Calculate mean of sample without discount\n",
    "without_mean = without_discount['Quantity'].mean()\n",
    "without_mean"
   ]
  },
  {
   "cell_type": "code",
   "execution_count": 19,
   "metadata": {},
   "outputs": [
    {
     "data": {
      "text/plain": [
       "72.94473684210526"
      ]
     },
     "execution_count": 19,
     "metadata": {},
     "output_type": "execute_result"
    }
   ],
   "source": [
    "#Calculate mean of sample with discount\n",
    "with_mean = with_discount['Quantity'].mean()\n",
    "with_mean"
   ]
  },
  {
   "cell_type": "code",
   "execution_count": 20,
   "metadata": {},
   "outputs": [
    {
     "data": {
      "text/plain": [
       "380"
      ]
     },
     "execution_count": 20,
     "metadata": {},
     "output_type": "execute_result"
    }
   ],
   "source": [
    "#Calculate length of sample without discount\n",
    "len(with_discount)"
   ]
  },
  {
   "cell_type": "code",
   "execution_count": 21,
   "metadata": {},
   "outputs": [
    {
     "data": {
      "text/plain": [
       "450"
      ]
     },
     "execution_count": 21,
     "metadata": {},
     "output_type": "execute_result"
    }
   ],
   "source": [
    "#Calculate length of sample with discount\n",
    "len(without_discount)"
   ]
  },
  {
   "cell_type": "code",
   "execution_count": 22,
   "metadata": {},
   "outputs": [],
   "source": [
    "#Not normal, different sample sizes -> should not use student T-Test\n",
    "#Need to use more general Welch's t-test"
   ]
  },
  {
   "cell_type": "code",
   "execution_count": 23,
   "metadata": {},
   "outputs": [
    {
     "data": {
      "text/plain": [
       "Ttest_indResult(statistic=5.886184782446325, pvalue=5.850677815891118e-09)"
      ]
     },
     "execution_count": 23,
     "metadata": {},
     "output_type": "execute_result"
    }
   ],
   "source": [
    "#Find T statistic and pvalue using scipy.stats\n",
    "stats.ttest_ind(with_discount['Quantity'], without_discount['Quantity'], equal_var = False)"
   ]
  },
  {
   "cell_type": "markdown",
   "metadata": {},
   "source": [
    "### pvalue < .05, so the result is statistically significant\n",
    "\n",
    "### The next step is to test for effect size"
   ]
  },
  {
   "cell_type": "code",
   "execution_count": 24,
   "metadata": {},
   "outputs": [],
   "source": [
    "#Test for effect size using Cohen'd d that measures effect size of samples with differing means\n",
    "def cohend(sample_1, sample_2):\n",
    "    n1 = len(sample_1)\n",
    "    n2 = len(sample_2)\n",
    "    s1 = np.var(sample_1, ddof = 1)\n",
    "    s2 = np.var(sample_2, ddof = 1)\n",
    "    u1 = sample_1.mean()\n",
    "    u2 = sample_2.mean()\n",
    "    pooled_standard_deviation = np.sqrt((((n1-1)*s1)+((n2-1)*s2))/(n1+n2-2)) #weighted std for the two samples together\n",
    "    cd = (u1-u2) / pooled_standard_deviation\n",
    "    return cd\n",
    "    "
   ]
  },
  {
   "cell_type": "code",
   "execution_count": 25,
   "metadata": {},
   "outputs": [
    {
     "data": {
      "text/plain": [
       "0.41225480363635514"
      ]
     },
     "execution_count": 25,
     "metadata": {},
     "output_type": "execute_result"
    }
   ],
   "source": [
    "#Calculate cohen_d\n",
    "cohend(with_discount['Quantity'], without_discount['Quantity'])"
   ]
  },
  {
   "cell_type": "markdown",
   "metadata": {},
   "source": [
    "There is a weak/moderate positive, significant relationship between discounts and quantity\n",
    "\n",
    "The null hypothesis should be rejected and the alternative accepted: there is a signficant difference in quantity with and without a discount"
   ]
  },
  {
   "cell_type": "markdown",
   "metadata": {},
   "source": [
    "# Examine significance of discounts at different levels"
   ]
  },
  {
   "cell_type": "code",
   "execution_count": 26,
   "metadata": {},
   "outputs": [
    {
     "data": {
      "text/html": [
       "<div>\n",
       "<style scoped>\n",
       "    .dataframe tbody tr th:only-of-type {\n",
       "        vertical-align: middle;\n",
       "    }\n",
       "\n",
       "    .dataframe tbody tr th {\n",
       "        vertical-align: top;\n",
       "    }\n",
       "\n",
       "    .dataframe thead th {\n",
       "        text-align: right;\n",
       "    }\n",
       "</style>\n",
       "<table border=\"1\" class=\"dataframe\">\n",
       "  <thead>\n",
       "    <tr style=\"text-align: right;\">\n",
       "      <th></th>\n",
       "      <th>OrderID</th>\n",
       "      <th>Quantity</th>\n",
       "      <th>Discount</th>\n",
       "    </tr>\n",
       "  </thead>\n",
       "  <tbody>\n",
       "    <tr>\n",
       "      <th>2</th>\n",
       "      <td>10250</td>\n",
       "      <td>60</td>\n",
       "      <td>0.15</td>\n",
       "    </tr>\n",
       "    <tr>\n",
       "      <th>3</th>\n",
       "      <td>10251</td>\n",
       "      <td>41</td>\n",
       "      <td>0.05</td>\n",
       "    </tr>\n",
       "    <tr>\n",
       "      <th>4</th>\n",
       "      <td>10252</td>\n",
       "      <td>105</td>\n",
       "      <td>0.05</td>\n",
       "    </tr>\n",
       "    <tr>\n",
       "      <th>6</th>\n",
       "      <td>10254</td>\n",
       "      <td>57</td>\n",
       "      <td>0.15</td>\n",
       "    </tr>\n",
       "    <tr>\n",
       "      <th>10</th>\n",
       "      <td>10258</td>\n",
       "      <td>121</td>\n",
       "      <td>0.20</td>\n",
       "    </tr>\n",
       "  </tbody>\n",
       "</table>\n",
       "</div>"
      ],
      "text/plain": [
       "    OrderID  Quantity  Discount\n",
       "2     10250        60      0.15\n",
       "3     10251        41      0.05\n",
       "4     10252       105      0.05\n",
       "6     10254        57      0.15\n",
       "10    10258       121      0.20"
      ]
     },
     "execution_count": 26,
     "metadata": {},
     "output_type": "execute_result"
    }
   ],
   "source": [
    "with_discount.head()"
   ]
  },
  {
   "cell_type": "code",
   "execution_count": 27,
   "metadata": {},
   "outputs": [
    {
     "data": {
      "text/html": [
       "<div>\n",
       "<style scoped>\n",
       "    .dataframe tbody tr th:only-of-type {\n",
       "        vertical-align: middle;\n",
       "    }\n",
       "\n",
       "    .dataframe tbody tr th {\n",
       "        vertical-align: top;\n",
       "    }\n",
       "\n",
       "    .dataframe thead th {\n",
       "        text-align: right;\n",
       "    }\n",
       "</style>\n",
       "<table border=\"1\" class=\"dataframe\">\n",
       "  <thead>\n",
       "    <tr style=\"text-align: right;\">\n",
       "      <th></th>\n",
       "      <th>OrderID</th>\n",
       "      <th>Quantity</th>\n",
       "      <th>Discount</th>\n",
       "    </tr>\n",
       "  </thead>\n",
       "  <tbody>\n",
       "    <tr>\n",
       "      <th>0</th>\n",
       "      <td>10248</td>\n",
       "      <td>27</td>\n",
       "      <td>0.0</td>\n",
       "    </tr>\n",
       "    <tr>\n",
       "      <th>1</th>\n",
       "      <td>10249</td>\n",
       "      <td>49</td>\n",
       "      <td>0.0</td>\n",
       "    </tr>\n",
       "    <tr>\n",
       "      <th>5</th>\n",
       "      <td>10253</td>\n",
       "      <td>102</td>\n",
       "      <td>0.0</td>\n",
       "    </tr>\n",
       "    <tr>\n",
       "      <th>7</th>\n",
       "      <td>10255</td>\n",
       "      <td>110</td>\n",
       "      <td>0.0</td>\n",
       "    </tr>\n",
       "    <tr>\n",
       "      <th>8</th>\n",
       "      <td>10256</td>\n",
       "      <td>27</td>\n",
       "      <td>0.0</td>\n",
       "    </tr>\n",
       "  </tbody>\n",
       "</table>\n",
       "</div>"
      ],
      "text/plain": [
       "   OrderID  Quantity  Discount\n",
       "0    10248        27       0.0\n",
       "1    10249        49       0.0\n",
       "5    10253       102       0.0\n",
       "7    10255       110       0.0\n",
       "8    10256        27       0.0"
      ]
     },
     "execution_count": 27,
     "metadata": {},
     "output_type": "execute_result"
    }
   ],
   "source": [
    "without_discount.head()"
   ]
  },
  {
   "cell_type": "code",
   "execution_count": 28,
   "metadata": {},
   "outputs": [
    {
     "data": {
      "text/plain": [
       "0.05    86\n",
       "0.15    75\n",
       "0.10    74\n",
       "0.20    73\n",
       "0.25    72\n",
       "Name: Discount, dtype: int64"
      ]
     },
     "execution_count": 28,
     "metadata": {},
     "output_type": "execute_result"
    }
   ],
   "source": [
    "#Check lengths of prospoective discount level DataFrames\n",
    "with_discount['Discount'].value_counts()\n",
    "\n",
    "#all have at least 70 samples"
   ]
  },
  {
   "cell_type": "code",
   "execution_count": 29,
   "metadata": {},
   "outputs": [],
   "source": [
    "#Create a DataFrame for each discount level\n",
    "five_p_discount = with_discount[with_discount['Discount']==.05]\n",
    "ten_p_discount = with_discount[with_discount['Discount']==.1]\n",
    "fifteen_p_discount = with_discount[with_discount['Discount']==.15]\n",
    "twenty_p_discount = with_discount[with_discount['Discount']==.20]\n",
    "twentyfive_p_discount = with_discount[with_discount['Discount']==.25]\n",
    "\n",
    "#Create list with discount level DataFrames\n",
    "discount_levels = [five_p_discount, ten_p_discount, fifteen_p_discount, twenty_p_discount, twentyfive_p_discount]"
   ]
  },
  {
   "cell_type": "code",
   "execution_count": 30,
   "metadata": {},
   "outputs": [
    {
     "name": "stdout",
     "output_type": "stream",
     "text": [
      "with a discount of 0.05: the p_value is 0.00199 with an effect size of 0.36458\n",
      "with a discount of 0.1: the p_value is 0.00089 with an effect size of 0.41548\n",
      "with a discount of 0.15: the p_value is 0.00085 with an effect size of 0.48592\n",
      "with a discount of 0.2: the p_value is 0.01037 with an effect size of 0.33795\n",
      "with a discount of 0.25: the p_value is 0.00069 with an effect size of 0.50471\n"
     ]
    }
   ],
   "source": [
    "#calculate p_value and effect size for each discount level\n",
    "for level in discount_levels:\n",
    "    #calculate discount\n",
    "    discount = level['Discount'].median()\n",
    "    #calculate the t-statistic and p-value for the two-tailed Welch's T-test between the discount level DF and no discount DF\n",
    "    t_stat, p = stats.ttest_ind(level['Quantity'], without_discount['Quantity'], equal_var = False)\n",
    "    #calculate the effect size of the p_value\n",
    "    cohen = cohend(level['Quantity'], without_discount['Quantity'])\n",
    "    print('with a discount of ' + str(discount)+ ': the p_value is ' + str(round(p,5)) + ' with an effect size of ' + str(round(cohen,5)))"
   ]
  },
  {
   "cell_type": "markdown",
   "metadata": {},
   "source": [
    "### A 25% discount has the lowest p_value and the greatest effect size, so one can be most confident in a 25% discount increasing purchase quantity"
   ]
  },
  {
   "cell_type": "markdown",
   "metadata": {},
   "source": [
    "# Test 3 Other Hypotheses: Freight, Region, and Customer Title Effects on Quantity Sold"
   ]
  },
  {
   "cell_type": "markdown",
   "metadata": {},
   "source": [
    "## Create DataFrame with Quantity, Freight, Region, and Customer Title"
   ]
  },
  {
   "cell_type": "code",
   "execution_count": 31,
   "metadata": {},
   "outputs": [
    {
     "data": {
      "text/html": [
       "<div>\n",
       "<style scoped>\n",
       "    .dataframe tbody tr th:only-of-type {\n",
       "        vertical-align: middle;\n",
       "    }\n",
       "\n",
       "    .dataframe tbody tr th {\n",
       "        vertical-align: top;\n",
       "    }\n",
       "\n",
       "    .dataframe thead th {\n",
       "        text-align: right;\n",
       "    }\n",
       "</style>\n",
       "<table border=\"1\" class=\"dataframe\">\n",
       "  <thead>\n",
       "    <tr style=\"text-align: right;\">\n",
       "      <th></th>\n",
       "      <th>OrderID</th>\n",
       "      <th>Quantity</th>\n",
       "      <th>Discount</th>\n",
       "    </tr>\n",
       "  </thead>\n",
       "  <tbody>\n",
       "    <tr>\n",
       "      <th>0</th>\n",
       "      <td>10248</td>\n",
       "      <td>27</td>\n",
       "      <td>0.00</td>\n",
       "    </tr>\n",
       "    <tr>\n",
       "      <th>1</th>\n",
       "      <td>10249</td>\n",
       "      <td>49</td>\n",
       "      <td>0.00</td>\n",
       "    </tr>\n",
       "    <tr>\n",
       "      <th>2</th>\n",
       "      <td>10250</td>\n",
       "      <td>60</td>\n",
       "      <td>0.15</td>\n",
       "    </tr>\n",
       "    <tr>\n",
       "      <th>3</th>\n",
       "      <td>10251</td>\n",
       "      <td>41</td>\n",
       "      <td>0.05</td>\n",
       "    </tr>\n",
       "    <tr>\n",
       "      <th>4</th>\n",
       "      <td>10252</td>\n",
       "      <td>105</td>\n",
       "      <td>0.05</td>\n",
       "    </tr>\n",
       "  </tbody>\n",
       "</table>\n",
       "</div>"
      ],
      "text/plain": [
       "   OrderID  Quantity  Discount\n",
       "0    10248        27      0.00\n",
       "1    10249        49      0.00\n",
       "2    10250        60      0.15\n",
       "3    10251        41      0.05\n",
       "4    10252       105      0.05"
      ]
     },
     "execution_count": 31,
     "metadata": {},
     "output_type": "execute_result"
    }
   ],
   "source": [
    "df_1.head()"
   ]
  },
  {
   "cell_type": "code",
   "execution_count": 32,
   "metadata": {},
   "outputs": [],
   "source": [
    "#Query SQL to get Orders\n",
    "orders = cursor.execute('''SELECT ID, CustomerID, Freight FROM \"Order\"''').fetchall()\n",
    "#Convert Orders to DataFrame\n",
    "orders_df = pd.DataFrame(orders, columns = ['OrderID', 'CustomerID', 'Freight'])"
   ]
  },
  {
   "cell_type": "code",
   "execution_count": 33,
   "metadata": {},
   "outputs": [
    {
     "data": {
      "text/html": [
       "<div>\n",
       "<style scoped>\n",
       "    .dataframe tbody tr th:only-of-type {\n",
       "        vertical-align: middle;\n",
       "    }\n",
       "\n",
       "    .dataframe tbody tr th {\n",
       "        vertical-align: top;\n",
       "    }\n",
       "\n",
       "    .dataframe thead th {\n",
       "        text-align: right;\n",
       "    }\n",
       "</style>\n",
       "<table border=\"1\" class=\"dataframe\">\n",
       "  <thead>\n",
       "    <tr style=\"text-align: right;\">\n",
       "      <th></th>\n",
       "      <th>OrderID</th>\n",
       "      <th>CustomerID</th>\n",
       "      <th>Freight</th>\n",
       "    </tr>\n",
       "  </thead>\n",
       "  <tbody>\n",
       "    <tr>\n",
       "      <th>0</th>\n",
       "      <td>10248</td>\n",
       "      <td>VINET</td>\n",
       "      <td>32.38</td>\n",
       "    </tr>\n",
       "    <tr>\n",
       "      <th>1</th>\n",
       "      <td>10249</td>\n",
       "      <td>TOMSP</td>\n",
       "      <td>11.61</td>\n",
       "    </tr>\n",
       "    <tr>\n",
       "      <th>2</th>\n",
       "      <td>10250</td>\n",
       "      <td>HANAR</td>\n",
       "      <td>65.83</td>\n",
       "    </tr>\n",
       "    <tr>\n",
       "      <th>3</th>\n",
       "      <td>10251</td>\n",
       "      <td>VICTE</td>\n",
       "      <td>41.34</td>\n",
       "    </tr>\n",
       "    <tr>\n",
       "      <th>4</th>\n",
       "      <td>10252</td>\n",
       "      <td>SUPRD</td>\n",
       "      <td>51.30</td>\n",
       "    </tr>\n",
       "  </tbody>\n",
       "</table>\n",
       "</div>"
      ],
      "text/plain": [
       "   OrderID CustomerID  Freight\n",
       "0    10248      VINET    32.38\n",
       "1    10249      TOMSP    11.61\n",
       "2    10250      HANAR    65.83\n",
       "3    10251      VICTE    41.34\n",
       "4    10252      SUPRD    51.30"
      ]
     },
     "execution_count": 33,
     "metadata": {},
     "output_type": "execute_result"
    }
   ],
   "source": [
    "orders_df.head()"
   ]
  },
  {
   "cell_type": "code",
   "execution_count": 34,
   "metadata": {},
   "outputs": [],
   "source": [
    "#Query SQL to get Customers\n",
    "customers = cursor.execute('''SELECT * FROM \"Customer\"''').fetchall()\n",
    "#Convert Customers to DataFrame\n",
    "customers_df = pd.DataFrame(customers, columns = [\"Code\",\"CompanyName\", \"ContactName\", \"ContactTitle\", \"Address\", \"City\", \"Region\",\"PostalCode\", \"Country\", \"Phone\", \"Fax\"])"
   ]
  },
  {
   "cell_type": "code",
   "execution_count": 35,
   "metadata": {},
   "outputs": [
    {
     "data": {
      "text/html": [
       "<div>\n",
       "<style scoped>\n",
       "    .dataframe tbody tr th:only-of-type {\n",
       "        vertical-align: middle;\n",
       "    }\n",
       "\n",
       "    .dataframe tbody tr th {\n",
       "        vertical-align: top;\n",
       "    }\n",
       "\n",
       "    .dataframe thead th {\n",
       "        text-align: right;\n",
       "    }\n",
       "</style>\n",
       "<table border=\"1\" class=\"dataframe\">\n",
       "  <thead>\n",
       "    <tr style=\"text-align: right;\">\n",
       "      <th></th>\n",
       "      <th>Code</th>\n",
       "      <th>CompanyName</th>\n",
       "      <th>ContactName</th>\n",
       "      <th>ContactTitle</th>\n",
       "      <th>Address</th>\n",
       "      <th>City</th>\n",
       "      <th>Region</th>\n",
       "      <th>PostalCode</th>\n",
       "      <th>Country</th>\n",
       "      <th>Phone</th>\n",
       "      <th>Fax</th>\n",
       "    </tr>\n",
       "  </thead>\n",
       "  <tbody>\n",
       "    <tr>\n",
       "      <th>0</th>\n",
       "      <td>ALFKI</td>\n",
       "      <td>Alfreds Futterkiste</td>\n",
       "      <td>Maria Anders</td>\n",
       "      <td>Sales Representative</td>\n",
       "      <td>Obere Str. 57</td>\n",
       "      <td>Berlin</td>\n",
       "      <td>Western Europe</td>\n",
       "      <td>12209</td>\n",
       "      <td>Germany</td>\n",
       "      <td>030-0074321</td>\n",
       "      <td>030-0076545</td>\n",
       "    </tr>\n",
       "    <tr>\n",
       "      <th>1</th>\n",
       "      <td>ANATR</td>\n",
       "      <td>Ana Trujillo Emparedados y helados</td>\n",
       "      <td>Ana Trujillo</td>\n",
       "      <td>Owner</td>\n",
       "      <td>Avda. de la Constitución 2222</td>\n",
       "      <td>México D.F.</td>\n",
       "      <td>Central America</td>\n",
       "      <td>05021</td>\n",
       "      <td>Mexico</td>\n",
       "      <td>(5) 555-4729</td>\n",
       "      <td>(5) 555-3745</td>\n",
       "    </tr>\n",
       "    <tr>\n",
       "      <th>2</th>\n",
       "      <td>ANTON</td>\n",
       "      <td>Antonio Moreno Taquería</td>\n",
       "      <td>Antonio Moreno</td>\n",
       "      <td>Owner</td>\n",
       "      <td>Mataderos  2312</td>\n",
       "      <td>México D.F.</td>\n",
       "      <td>Central America</td>\n",
       "      <td>05023</td>\n",
       "      <td>Mexico</td>\n",
       "      <td>(5) 555-3932</td>\n",
       "      <td>None</td>\n",
       "    </tr>\n",
       "    <tr>\n",
       "      <th>3</th>\n",
       "      <td>AROUT</td>\n",
       "      <td>Around the Horn</td>\n",
       "      <td>Thomas Hardy</td>\n",
       "      <td>Sales Representative</td>\n",
       "      <td>120 Hanover Sq.</td>\n",
       "      <td>London</td>\n",
       "      <td>British Isles</td>\n",
       "      <td>WA1 1DP</td>\n",
       "      <td>UK</td>\n",
       "      <td>(171) 555-7788</td>\n",
       "      <td>(171) 555-6750</td>\n",
       "    </tr>\n",
       "    <tr>\n",
       "      <th>4</th>\n",
       "      <td>BERGS</td>\n",
       "      <td>Berglunds snabbköp</td>\n",
       "      <td>Christina Berglund</td>\n",
       "      <td>Order Administrator</td>\n",
       "      <td>Berguvsvägen  8</td>\n",
       "      <td>Luleå</td>\n",
       "      <td>Northern Europe</td>\n",
       "      <td>S-958 22</td>\n",
       "      <td>Sweden</td>\n",
       "      <td>0921-12 34 65</td>\n",
       "      <td>0921-12 34 67</td>\n",
       "    </tr>\n",
       "  </tbody>\n",
       "</table>\n",
       "</div>"
      ],
      "text/plain": [
       "    Code                         CompanyName         ContactName  \\\n",
       "0  ALFKI                 Alfreds Futterkiste        Maria Anders   \n",
       "1  ANATR  Ana Trujillo Emparedados y helados        Ana Trujillo   \n",
       "2  ANTON             Antonio Moreno Taquería      Antonio Moreno   \n",
       "3  AROUT                     Around the Horn        Thomas Hardy   \n",
       "4  BERGS                  Berglunds snabbköp  Christina Berglund   \n",
       "\n",
       "           ContactTitle                        Address         City  \\\n",
       "0  Sales Representative                  Obere Str. 57       Berlin   \n",
       "1                 Owner  Avda. de la Constitución 2222  México D.F.   \n",
       "2                 Owner                Mataderos  2312  México D.F.   \n",
       "3  Sales Representative                120 Hanover Sq.       London   \n",
       "4   Order Administrator                Berguvsvägen  8        Luleå   \n",
       "\n",
       "            Region PostalCode  Country           Phone             Fax  \n",
       "0   Western Europe      12209  Germany     030-0074321     030-0076545  \n",
       "1  Central America      05021   Mexico    (5) 555-4729    (5) 555-3745  \n",
       "2  Central America      05023   Mexico    (5) 555-3932            None  \n",
       "3    British Isles    WA1 1DP       UK  (171) 555-7788  (171) 555-6750  \n",
       "4  Northern Europe   S-958 22   Sweden   0921-12 34 65   0921-12 34 67  "
      ]
     },
     "execution_count": 35,
     "metadata": {},
     "output_type": "execute_result"
    }
   ],
   "source": [
    "#Check customers_df for unnecessary columns\n",
    "customers_df.head()"
   ]
  },
  {
   "cell_type": "code",
   "execution_count": 36,
   "metadata": {},
   "outputs": [],
   "source": [
    "#Drop unnecessary columns from customers_df\n",
    "to_drop = [\"CompanyName\", \"ContactName\", \"Address\", \"City\",\"PostalCode\", \"Country\", \"Phone\", \"Fax\"]\n",
    "customers_df = customers_df.drop(to_drop, axis =1)"
   ]
  },
  {
   "cell_type": "code",
   "execution_count": 37,
   "metadata": {},
   "outputs": [
    {
     "data": {
      "text/plain": [
       "Sales Representative              17\n",
       "Owner                             17\n",
       "Marketing Manager                 12\n",
       "Sales Manager                     11\n",
       "Accounting Manager                10\n",
       "Sales Associate                    7\n",
       "Marketing Assistant                6\n",
       "Sales Agent                        5\n",
       "Order Administrator                2\n",
       "Assistant Sales Agent              2\n",
       "Owner/Marketing Assistant          1\n",
       "Assistant Sales Representative     1\n",
       "Name: ContactTitle, dtype: int64"
      ]
     },
     "execution_count": 37,
     "metadata": {},
     "output_type": "execute_result"
    }
   ],
   "source": [
    "#Check values for Customers - note: some customers place multiple orders, so there length of this DataFrame will be shorter than others\n",
    "customers_df['ContactTitle'].value_counts()"
   ]
  },
  {
   "cell_type": "code",
   "execution_count": 38,
   "metadata": {},
   "outputs": [],
   "source": [
    "#Drop OrderID column from orders_df so that there is not a repeat column with later concatenation with df_1\n",
    "orders_df = orders_df.drop(['OrderID'], axis = 1)"
   ]
  },
  {
   "cell_type": "code",
   "execution_count": 39,
   "metadata": {},
   "outputs": [
    {
     "data": {
      "text/html": [
       "<div>\n",
       "<style scoped>\n",
       "    .dataframe tbody tr th:only-of-type {\n",
       "        vertical-align: middle;\n",
       "    }\n",
       "\n",
       "    .dataframe tbody tr th {\n",
       "        vertical-align: top;\n",
       "    }\n",
       "\n",
       "    .dataframe thead th {\n",
       "        text-align: right;\n",
       "    }\n",
       "</style>\n",
       "<table border=\"1\" class=\"dataframe\">\n",
       "  <thead>\n",
       "    <tr style=\"text-align: right;\">\n",
       "      <th></th>\n",
       "      <th>CustomerID</th>\n",
       "      <th>Freight</th>\n",
       "      <th>OrderID</th>\n",
       "      <th>Quantity</th>\n",
       "      <th>Discount</th>\n",
       "    </tr>\n",
       "  </thead>\n",
       "  <tbody>\n",
       "    <tr>\n",
       "      <th>0</th>\n",
       "      <td>VINET</td>\n",
       "      <td>32.38</td>\n",
       "      <td>10248</td>\n",
       "      <td>27</td>\n",
       "      <td>0.00</td>\n",
       "    </tr>\n",
       "    <tr>\n",
       "      <th>1</th>\n",
       "      <td>TOMSP</td>\n",
       "      <td>11.61</td>\n",
       "      <td>10249</td>\n",
       "      <td>49</td>\n",
       "      <td>0.00</td>\n",
       "    </tr>\n",
       "    <tr>\n",
       "      <th>2</th>\n",
       "      <td>HANAR</td>\n",
       "      <td>65.83</td>\n",
       "      <td>10250</td>\n",
       "      <td>60</td>\n",
       "      <td>0.15</td>\n",
       "    </tr>\n",
       "    <tr>\n",
       "      <th>3</th>\n",
       "      <td>VICTE</td>\n",
       "      <td>41.34</td>\n",
       "      <td>10251</td>\n",
       "      <td>41</td>\n",
       "      <td>0.05</td>\n",
       "    </tr>\n",
       "    <tr>\n",
       "      <th>4</th>\n",
       "      <td>SUPRD</td>\n",
       "      <td>51.30</td>\n",
       "      <td>10252</td>\n",
       "      <td>105</td>\n",
       "      <td>0.05</td>\n",
       "    </tr>\n",
       "  </tbody>\n",
       "</table>\n",
       "</div>"
      ],
      "text/plain": [
       "  CustomerID  Freight  OrderID  Quantity  Discount\n",
       "0      VINET    32.38    10248        27      0.00\n",
       "1      TOMSP    11.61    10249        49      0.00\n",
       "2      HANAR    65.83    10250        60      0.15\n",
       "3      VICTE    41.34    10251        41      0.05\n",
       "4      SUPRD    51.30    10252       105      0.05"
      ]
     },
     "execution_count": 39,
     "metadata": {},
     "output_type": "execute_result"
    }
   ],
   "source": [
    "#Concatenate orders_df and df_2 in order to OrderID, Customer, ID, Freight and Quantity in the same DataFrame\n",
    "df_2 = pd.concat([orders_df, df_1], axis = 1)\n",
    "df_2.head()"
   ]
  },
  {
   "cell_type": "code",
   "execution_count": 40,
   "metadata": {},
   "outputs": [],
   "source": [
    "#additional variables beyond freight compare with quantity are Title and Region - process to add it to df_2 is below"
   ]
  },
  {
   "cell_type": "code",
   "execution_count": 41,
   "metadata": {},
   "outputs": [
    {
     "data": {
      "text/html": [
       "<div>\n",
       "<style scoped>\n",
       "    .dataframe tbody tr th:only-of-type {\n",
       "        vertical-align: middle;\n",
       "    }\n",
       "\n",
       "    .dataframe tbody tr th {\n",
       "        vertical-align: top;\n",
       "    }\n",
       "\n",
       "    .dataframe thead th {\n",
       "        text-align: right;\n",
       "    }\n",
       "</style>\n",
       "<table border=\"1\" class=\"dataframe\">\n",
       "  <thead>\n",
       "    <tr style=\"text-align: right;\">\n",
       "      <th></th>\n",
       "      <th>Code</th>\n",
       "      <th>ContactTitle</th>\n",
       "      <th>Region</th>\n",
       "    </tr>\n",
       "  </thead>\n",
       "  <tbody>\n",
       "    <tr>\n",
       "      <th>0</th>\n",
       "      <td>ALFKI</td>\n",
       "      <td>Sales Representative</td>\n",
       "      <td>Western Europe</td>\n",
       "    </tr>\n",
       "    <tr>\n",
       "      <th>1</th>\n",
       "      <td>ANATR</td>\n",
       "      <td>Owner</td>\n",
       "      <td>Central America</td>\n",
       "    </tr>\n",
       "    <tr>\n",
       "      <th>2</th>\n",
       "      <td>ANTON</td>\n",
       "      <td>Owner</td>\n",
       "      <td>Central America</td>\n",
       "    </tr>\n",
       "    <tr>\n",
       "      <th>3</th>\n",
       "      <td>AROUT</td>\n",
       "      <td>Sales Representative</td>\n",
       "      <td>British Isles</td>\n",
       "    </tr>\n",
       "    <tr>\n",
       "      <th>4</th>\n",
       "      <td>BERGS</td>\n",
       "      <td>Order Administrator</td>\n",
       "      <td>Northern Europe</td>\n",
       "    </tr>\n",
       "  </tbody>\n",
       "</table>\n",
       "</div>"
      ],
      "text/plain": [
       "    Code          ContactTitle           Region\n",
       "0  ALFKI  Sales Representative   Western Europe\n",
       "1  ANATR                 Owner  Central America\n",
       "2  ANTON                 Owner  Central America\n",
       "3  AROUT  Sales Representative    British Isles\n",
       "4  BERGS   Order Administrator  Northern Europe"
      ]
     },
     "execution_count": 41,
     "metadata": {},
     "output_type": "execute_result"
    }
   ],
   "source": [
    "#customers_df has title and region for each customer code\n",
    "customers_df.head()"
   ]
  },
  {
   "cell_type": "code",
   "execution_count": 57,
   "metadata": {},
   "outputs": [],
   "source": [
    "#Add customers_df to SQL in order to more easily extract regions and titles\n",
    "#customers_df.to_sql('customers', con = connection) - already done"
   ]
  },
  {
   "cell_type": "code",
   "execution_count": 43,
   "metadata": {},
   "outputs": [
    {
     "data": {
      "text/plain": [
       "[('Western Europe',)]"
      ]
     },
     "execution_count": 43,
     "metadata": {},
     "output_type": "execute_result"
    }
   ],
   "source": [
    "#Test sql query\n",
    "cursor.execute('''SELECT Region FROM customers WHERE Code = 'VINET';''').fetchall()"
   ]
  },
  {
   "cell_type": "code",
   "execution_count": 44,
   "metadata": {},
   "outputs": [],
   "source": [
    "#Create lists that will be turned into columns in df_2\n",
    "corresponding_regions = []\n",
    "corresponding_title = []\n",
    "\n",
    "#Create loop to fill lists\n",
    "for i in range(len(df_2)):\n",
    "    \n",
    "    #format each customer code to work with SQL command syntax\n",
    "    code = \"'\" + str(df_2.iloc[i][0]) + \"'\"\n",
    "    \n",
    "    #add customer code to commands to fetch region\n",
    "    region_command = 'SELECT Region FROM customers WHERE Code = ' + code\n",
    "    \n",
    "    #add customer code to commands to fetch title\n",
    "    title_command = 'SELECT ContactTitle FROM customers WHERE Code = ' + code\n",
    "    \n",
    "    #execute command to fetch region\n",
    "    region = cursor.execute(region_command).fetchall()\n",
    "    \n",
    "    #execute command to fetch region\n",
    "    title =  cursor.execute(title_command).fetchall()\n",
    "    \n",
    "    #add region and title to corresponding list\n",
    "    corresponding_regions.append(region)\n",
    "    corresponding_title.append(title)\n",
    "\n",
    "#add regions and titles as coulumns in df_2\n",
    "df_2['Region'] = corresponding_regions\n",
    "df_2['Title'] = corresponding_title"
   ]
  },
  {
   "cell_type": "code",
   "execution_count": 45,
   "metadata": {},
   "outputs": [
    {
     "data": {
      "text/html": [
       "<div>\n",
       "<style scoped>\n",
       "    .dataframe tbody tr th:only-of-type {\n",
       "        vertical-align: middle;\n",
       "    }\n",
       "\n",
       "    .dataframe tbody tr th {\n",
       "        vertical-align: top;\n",
       "    }\n",
       "\n",
       "    .dataframe thead th {\n",
       "        text-align: right;\n",
       "    }\n",
       "</style>\n",
       "<table border=\"1\" class=\"dataframe\">\n",
       "  <thead>\n",
       "    <tr style=\"text-align: right;\">\n",
       "      <th></th>\n",
       "      <th>CustomerID</th>\n",
       "      <th>Freight</th>\n",
       "      <th>OrderID</th>\n",
       "      <th>Quantity</th>\n",
       "      <th>Discount</th>\n",
       "      <th>Region</th>\n",
       "      <th>Title</th>\n",
       "    </tr>\n",
       "  </thead>\n",
       "  <tbody>\n",
       "    <tr>\n",
       "      <th>0</th>\n",
       "      <td>VINET</td>\n",
       "      <td>32.38</td>\n",
       "      <td>10248</td>\n",
       "      <td>27</td>\n",
       "      <td>0.00</td>\n",
       "      <td>[(Western Europe,)]</td>\n",
       "      <td>[(Accounting Manager,)]</td>\n",
       "    </tr>\n",
       "    <tr>\n",
       "      <th>1</th>\n",
       "      <td>TOMSP</td>\n",
       "      <td>11.61</td>\n",
       "      <td>10249</td>\n",
       "      <td>49</td>\n",
       "      <td>0.00</td>\n",
       "      <td>[(Western Europe,)]</td>\n",
       "      <td>[(Marketing Manager,)]</td>\n",
       "    </tr>\n",
       "    <tr>\n",
       "      <th>2</th>\n",
       "      <td>HANAR</td>\n",
       "      <td>65.83</td>\n",
       "      <td>10250</td>\n",
       "      <td>60</td>\n",
       "      <td>0.15</td>\n",
       "      <td>[(South America,)]</td>\n",
       "      <td>[(Accounting Manager,)]</td>\n",
       "    </tr>\n",
       "    <tr>\n",
       "      <th>3</th>\n",
       "      <td>VICTE</td>\n",
       "      <td>41.34</td>\n",
       "      <td>10251</td>\n",
       "      <td>41</td>\n",
       "      <td>0.05</td>\n",
       "      <td>[(Western Europe,)]</td>\n",
       "      <td>[(Sales Agent,)]</td>\n",
       "    </tr>\n",
       "    <tr>\n",
       "      <th>4</th>\n",
       "      <td>SUPRD</td>\n",
       "      <td>51.30</td>\n",
       "      <td>10252</td>\n",
       "      <td>105</td>\n",
       "      <td>0.05</td>\n",
       "      <td>[(Western Europe,)]</td>\n",
       "      <td>[(Accounting Manager,)]</td>\n",
       "    </tr>\n",
       "  </tbody>\n",
       "</table>\n",
       "</div>"
      ],
      "text/plain": [
       "  CustomerID  Freight  OrderID  Quantity  Discount               Region  \\\n",
       "0      VINET    32.38    10248        27      0.00  [(Western Europe,)]   \n",
       "1      TOMSP    11.61    10249        49      0.00  [(Western Europe,)]   \n",
       "2      HANAR    65.83    10250        60      0.15   [(South America,)]   \n",
       "3      VICTE    41.34    10251        41      0.05  [(Western Europe,)]   \n",
       "4      SUPRD    51.30    10252       105      0.05  [(Western Europe,)]   \n",
       "\n",
       "                     Title  \n",
       "0  [(Accounting Manager,)]  \n",
       "1   [(Marketing Manager,)]  \n",
       "2  [(Accounting Manager,)]  \n",
       "3         [(Sales Agent,)]  \n",
       "4  [(Accounting Manager,)]  "
      ]
     },
     "execution_count": 45,
     "metadata": {},
     "output_type": "execute_result"
    }
   ],
   "source": [
    "#Check df_2\n",
    "df_2.head()"
   ]
  },
  {
   "cell_type": "code",
   "execution_count": 46,
   "metadata": {},
   "outputs": [],
   "source": [
    "#need to get rid of characters at beginnning and end of both region and title entries"
   ]
  },
  {
   "cell_type": "code",
   "execution_count": 47,
   "metadata": {},
   "outputs": [],
   "source": [
    "#create lists to be filled with corrected entries for region and title respectively\n",
    "edited_region = []\n",
    "edited_title = []\n",
    "\n",
    "#edit each region entry and add to edited_region list\n",
    "for reg in list(df_2['Region']):\n",
    "    reg = str(reg)[3:-4]\n",
    "    edited_region.append(reg)\n",
    "\n",
    "#edit each title entry and add to edited_title list\n",
    "for titl in list(df_2['Title']):\n",
    "    titl = str(titl)[3:-4]\n",
    "    edited_title.append(titl)\n",
    "\n",
    "#Replace Region and Title columns with edited entries\n",
    "df_2_edited = df_2.drop(['Region', 'Title'], axis = 1)\n",
    "df_2_edited['Region'] = edited_region\n",
    "df_2_edited['Title'] = edited_title"
   ]
  },
  {
   "cell_type": "code",
   "execution_count": 48,
   "metadata": {},
   "outputs": [
    {
     "data": {
      "text/html": [
       "<div>\n",
       "<style scoped>\n",
       "    .dataframe tbody tr th:only-of-type {\n",
       "        vertical-align: middle;\n",
       "    }\n",
       "\n",
       "    .dataframe tbody tr th {\n",
       "        vertical-align: top;\n",
       "    }\n",
       "\n",
       "    .dataframe thead th {\n",
       "        text-align: right;\n",
       "    }\n",
       "</style>\n",
       "<table border=\"1\" class=\"dataframe\">\n",
       "  <thead>\n",
       "    <tr style=\"text-align: right;\">\n",
       "      <th></th>\n",
       "      <th>CustomerID</th>\n",
       "      <th>Freight</th>\n",
       "      <th>OrderID</th>\n",
       "      <th>Quantity</th>\n",
       "      <th>Discount</th>\n",
       "      <th>Region</th>\n",
       "      <th>Title</th>\n",
       "    </tr>\n",
       "  </thead>\n",
       "  <tbody>\n",
       "    <tr>\n",
       "      <th>0</th>\n",
       "      <td>VINET</td>\n",
       "      <td>32.38</td>\n",
       "      <td>10248</td>\n",
       "      <td>27</td>\n",
       "      <td>0.00</td>\n",
       "      <td>Western Europe</td>\n",
       "      <td>Accounting Manager</td>\n",
       "    </tr>\n",
       "    <tr>\n",
       "      <th>1</th>\n",
       "      <td>TOMSP</td>\n",
       "      <td>11.61</td>\n",
       "      <td>10249</td>\n",
       "      <td>49</td>\n",
       "      <td>0.00</td>\n",
       "      <td>Western Europe</td>\n",
       "      <td>Marketing Manager</td>\n",
       "    </tr>\n",
       "    <tr>\n",
       "      <th>2</th>\n",
       "      <td>HANAR</td>\n",
       "      <td>65.83</td>\n",
       "      <td>10250</td>\n",
       "      <td>60</td>\n",
       "      <td>0.15</td>\n",
       "      <td>South America</td>\n",
       "      <td>Accounting Manager</td>\n",
       "    </tr>\n",
       "    <tr>\n",
       "      <th>3</th>\n",
       "      <td>VICTE</td>\n",
       "      <td>41.34</td>\n",
       "      <td>10251</td>\n",
       "      <td>41</td>\n",
       "      <td>0.05</td>\n",
       "      <td>Western Europe</td>\n",
       "      <td>Sales Agent</td>\n",
       "    </tr>\n",
       "    <tr>\n",
       "      <th>4</th>\n",
       "      <td>SUPRD</td>\n",
       "      <td>51.30</td>\n",
       "      <td>10252</td>\n",
       "      <td>105</td>\n",
       "      <td>0.05</td>\n",
       "      <td>Western Europe</td>\n",
       "      <td>Accounting Manager</td>\n",
       "    </tr>\n",
       "  </tbody>\n",
       "</table>\n",
       "</div>"
      ],
      "text/plain": [
       "  CustomerID  Freight  OrderID  Quantity  Discount          Region  \\\n",
       "0      VINET    32.38    10248        27      0.00  Western Europe   \n",
       "1      TOMSP    11.61    10249        49      0.00  Western Europe   \n",
       "2      HANAR    65.83    10250        60      0.15   South America   \n",
       "3      VICTE    41.34    10251        41      0.05  Western Europe   \n",
       "4      SUPRD    51.30    10252       105      0.05  Western Europe   \n",
       "\n",
       "                Title  \n",
       "0  Accounting Manager  \n",
       "1   Marketing Manager  \n",
       "2  Accounting Manager  \n",
       "3         Sales Agent  \n",
       "4  Accounting Manager  "
      ]
     },
     "execution_count": 48,
     "metadata": {},
     "output_type": "execute_result"
    }
   ],
   "source": [
    "#Check DataFrame\n",
    "df_2_edited.head()"
   ]
  },
  {
   "cell_type": "code",
   "execution_count": 49,
   "metadata": {},
   "outputs": [
    {
     "data": {
      "text/plain": [
       "CustomerID    563\n",
       "Freight       563\n",
       "OrderID       563\n",
       "Quantity      563\n",
       "Discount      563\n",
       "Region        563\n",
       "Title         563\n",
       "dtype: int64"
      ]
     },
     "execution_count": 49,
     "metadata": {},
     "output_type": "execute_result"
    }
   ],
   "source": [
    "df_2_edited[df_2_edited['Freight'] > 20].count()"
   ]
  },
  {
   "cell_type": "code",
   "execution_count": 50,
   "metadata": {},
   "outputs": [
    {
     "data": {
      "text/plain": [
       "CustomerID    272\n",
       "Freight       272\n",
       "OrderID       272\n",
       "Quantity      272\n",
       "Discount      272\n",
       "Region        272\n",
       "Title         272\n",
       "dtype: int64"
      ]
     },
     "execution_count": 50,
     "metadata": {},
     "output_type": "execute_result"
    }
   ],
   "source": [
    "df_2_edited[df_2_edited['Region'] ==  'Western Europe'].count()"
   ]
  },
  {
   "cell_type": "code",
   "execution_count": 51,
   "metadata": {},
   "outputs": [],
   "source": [
    "df_3 = df_2_edited"
   ]
  },
  {
   "cell_type": "markdown",
   "metadata": {},
   "source": [
    "## Null Hypothesis 1: A shipping charge of 20 or more does not signficantly affect quantity of items purchased\n",
    "\n",
    "## Alternative Hypothesis: A shipping charge of 20 or more  signficantly affects quantity of items purchased"
   ]
  },
  {
   "cell_type": "code",
   "execution_count": 62,
   "metadata": {},
   "outputs": [],
   "source": [
    "#Split samples - one with 20 dollar and over shipping and another with under 20 dollar shipping\n",
    "over_twenty = df_3[df_3['Freight'] >= 20]\n",
    "under_twenty = df_3[df_3['Freight'] < 20]"
   ]
  },
  {
   "cell_type": "code",
   "execution_count": 59,
   "metadata": {},
   "outputs": [
    {
     "data": {
      "text/plain": [
       "<matplotlib.legend.Legend at 0x1a236e7898>"
      ]
     },
     "execution_count": 59,
     "metadata": {},
     "output_type": "execute_result"
    },
    {
     "data": {
      "image/png": "[encoded data removed]",
      "text/plain": [
       "<Figure size 1080x648 with 2 Axes>"
      ]
     },
     "metadata": {},
     "output_type": "display_data"
    }
   ],
   "source": [
    "#Plot distributions\n",
    "fig, (ax1, ax2) = plt.subplots(figsize = (15,9), sharey = True, nrows = 1, ncols = 2)\n",
    "#Plot over 20 distribution\n",
    "ax1.hist(over_twenty['Quantity'], color = 'blue', label = 'Freight 20 or over', bins = 15)\n",
    "#Plot under 20 distribution\n",
    "ax2.hist(under_twenty['Quantity'], color = 'red', label = 'Freight under 20', bins = 15)\n",
    "fig.legend()"
   ]
  },
  {
   "cell_type": "code",
   "execution_count": 60,
   "metadata": {},
   "outputs": [
    {
     "data": {
      "text/plain": [
       "Ttest_indResult(statistic=15.532122586980316, pvalue=7.052620349637665e-48)"
      ]
     },
     "execution_count": 60,
     "metadata": {},
     "output_type": "execute_result"
    }
   ],
   "source": [
    "#Find T statistic and pvalue using scipy.stats\n",
    "stats.ttest_ind(over_twenty['Quantity'], under_twenty['Quantity'], equal_var = False)"
   ]
  },
  {
   "cell_type": "code",
   "execution_count": 61,
   "metadata": {},
   "outputs": [
    {
     "data": {
      "text/plain": [
       "0.9406025330708245"
      ]
     },
     "execution_count": 61,
     "metadata": {},
     "output_type": "execute_result"
    }
   ],
   "source": [
    "#Find Effect Size\n",
    "cohend(over_twenty['Quantity'], under_twenty['Quantity'])"
   ]
  },
  {
   "cell_type": "markdown",
   "metadata": {},
   "source": [
    "Freight has a significant, strong positive effect on quantity purchased"
   ]
  },
  {
   "cell_type": "markdown",
   "metadata": {},
   "source": [
    "## Null Hypothesis 2: A purchase from Western Europe does not signficantly affect quantity of items purchased\n",
    "\n",
    "## Alternative Hypothesis: A purchase from Western Europe signficantly affects quantity of items purchased"
   ]
  },
  {
   "cell_type": "code",
   "execution_count": 63,
   "metadata": {},
   "outputs": [
    {
     "data": {
      "text/html": [
       "<div>\n",
       "<style scoped>\n",
       "    .dataframe tbody tr th:only-of-type {\n",
       "        vertical-align: middle;\n",
       "    }\n",
       "\n",
       "    .dataframe tbody tr th {\n",
       "        vertical-align: top;\n",
       "    }\n",
       "\n",
       "    .dataframe thead th {\n",
       "        text-align: right;\n",
       "    }\n",
       "</style>\n",
       "<table border=\"1\" class=\"dataframe\">\n",
       "  <thead>\n",
       "    <tr style=\"text-align: right;\">\n",
       "      <th></th>\n",
       "      <th>CustomerID</th>\n",
       "      <th>Freight</th>\n",
       "      <th>OrderID</th>\n",
       "      <th>Quantity</th>\n",
       "      <th>Discount</th>\n",
       "      <th>Region</th>\n",
       "      <th>Title</th>\n",
       "    </tr>\n",
       "  </thead>\n",
       "  <tbody>\n",
       "    <tr>\n",
       "      <th>0</th>\n",
       "      <td>VINET</td>\n",
       "      <td>32.38</td>\n",
       "      <td>10248</td>\n",
       "      <td>27</td>\n",
       "      <td>0.00</td>\n",
       "      <td>Western Europe</td>\n",
       "      <td>Accounting Manager</td>\n",
       "    </tr>\n",
       "    <tr>\n",
       "      <th>1</th>\n",
       "      <td>TOMSP</td>\n",
       "      <td>11.61</td>\n",
       "      <td>10249</td>\n",
       "      <td>49</td>\n",
       "      <td>0.00</td>\n",
       "      <td>Western Europe</td>\n",
       "      <td>Marketing Manager</td>\n",
       "    </tr>\n",
       "    <tr>\n",
       "      <th>2</th>\n",
       "      <td>HANAR</td>\n",
       "      <td>65.83</td>\n",
       "      <td>10250</td>\n",
       "      <td>60</td>\n",
       "      <td>0.15</td>\n",
       "      <td>South America</td>\n",
       "      <td>Accounting Manager</td>\n",
       "    </tr>\n",
       "    <tr>\n",
       "      <th>3</th>\n",
       "      <td>VICTE</td>\n",
       "      <td>41.34</td>\n",
       "      <td>10251</td>\n",
       "      <td>41</td>\n",
       "      <td>0.05</td>\n",
       "      <td>Western Europe</td>\n",
       "      <td>Sales Agent</td>\n",
       "    </tr>\n",
       "    <tr>\n",
       "      <th>4</th>\n",
       "      <td>SUPRD</td>\n",
       "      <td>51.30</td>\n",
       "      <td>10252</td>\n",
       "      <td>105</td>\n",
       "      <td>0.05</td>\n",
       "      <td>Western Europe</td>\n",
       "      <td>Accounting Manager</td>\n",
       "    </tr>\n",
       "  </tbody>\n",
       "</table>\n",
       "</div>"
      ],
      "text/plain": [
       "  CustomerID  Freight  OrderID  Quantity  Discount          Region  \\\n",
       "0      VINET    32.38    10248        27      0.00  Western Europe   \n",
       "1      TOMSP    11.61    10249        49      0.00  Western Europe   \n",
       "2      HANAR    65.83    10250        60      0.15   South America   \n",
       "3      VICTE    41.34    10251        41      0.05  Western Europe   \n",
       "4      SUPRD    51.30    10252       105      0.05  Western Europe   \n",
       "\n",
       "                Title  \n",
       "0  Accounting Manager  \n",
       "1   Marketing Manager  \n",
       "2  Accounting Manager  \n",
       "3         Sales Agent  \n",
       "4  Accounting Manager  "
      ]
     },
     "execution_count": 63,
     "metadata": {},
     "output_type": "execute_result"
    }
   ],
   "source": [
    "df_3.head()"
   ]
  },
  {
   "cell_type": "code",
   "execution_count": 64,
   "metadata": {},
   "outputs": [],
   "source": [
    "#Split samples - one for which the region is Wester Europe and another for all other regions\n",
    "w_e = df_3[df_3['Region'] == 'Western Europe']\n",
    "not_w_e = df_3[df_3['Region']  != 'Western Europe']"
   ]
  },
  {
   "cell_type": "code",
   "execution_count": 70,
   "metadata": {},
   "outputs": [
    {
     "data": {
      "text/plain": [
       "<matplotlib.legend.Legend at 0x1a23d47f28>"
      ]
     },
     "execution_count": 70,
     "metadata": {},
     "output_type": "execute_result"
    },
    {
     "data": {
      "image/png": "[encoded data removed]",
      "text/plain": [
       "<Figure size 1080x648 with 2 Axes>"
      ]
     },
     "metadata": {},
     "output_type": "display_data"
    }
   ],
   "source": [
    "#Plot distributions\n",
    "fig, (ax1, ax2) = plt.subplots(figsize = (15,9), sharey = True, nrows = 1, ncols = 2)\n",
    "#Plot Western Europe distribution\n",
    "ax1.hist(w_e['Quantity'], color = 'blue', label = 'Western Europe', bins = 15)\n",
    "#Plot not Western Europ distribution\n",
    "ax2.hist(not_w_e['Quantity'], color = 'red', label = 'Not Western Europe', bins = 15)\n",
    "fig.legend()"
   ]
  },
  {
   "cell_type": "code",
   "execution_count": 66,
   "metadata": {},
   "outputs": [
    {
     "data": {
      "text/plain": [
       "Ttest_indResult(statistic=4.611656049888686, pvalue=5.264245347898961e-06)"
      ]
     },
     "execution_count": 66,
     "metadata": {},
     "output_type": "execute_result"
    }
   ],
   "source": [
    "#Find T statistic and pvalue using scipy.stats\n",
    "stats.ttest_ind(w_e['Quantity'], not_w_e['Quantity'], equal_var = False)"
   ]
  },
  {
   "cell_type": "code",
   "execution_count": 67,
   "metadata": {},
   "outputs": [
    {
     "data": {
      "text/plain": [
       "0.3721401514895702"
      ]
     },
     "execution_count": 67,
     "metadata": {},
     "output_type": "execute_result"
    }
   ],
   "source": [
    "#Find Effect Size\n",
    "cohend(w_e['Quantity'], not_w_e['Quantity'])"
   ]
  },
  {
   "cell_type": "markdown",
   "metadata": {},
   "source": [
    "Weak positive significant relationship between Western Europe and quantity"
   ]
  },
  {
   "cell_type": "markdown",
   "metadata": {},
   "source": [
    "## Null Hypothesis 3: Being an owner calling for the order does not signficantly affect quantity of items purchased\n",
    "\n",
    "## Alternative Hypothesis: Being an owner calling for the order signficiantly affects quantity of  items purchased"
   ]
  },
  {
   "cell_type": "code",
   "execution_count": 69,
   "metadata": {},
   "outputs": [
    {
     "data": {
      "text/plain": [
       "Sales Representative              160\n",
       "Sales Manager                     128\n",
       "Owner                             123\n",
       "Accounting Manager                116\n",
       "Marketing Manager                  82\n",
       "Sales Associate                    65\n",
       "Marketing Assistant                31\n",
       "Sales Agent                        31\n",
       "                                   29\n",
       "Order Administrator                24\n",
       "Assistant Sales Representative     18\n",
       "Assistant Sales Agent              16\n",
       "Owner/Marketing Assistant           7\n",
       "Name: Title, dtype: int64"
      ]
     },
     "execution_count": 69,
     "metadata": {},
     "output_type": "execute_result"
    }
   ],
   "source": [
    "df_3.Title.value_counts()"
   ]
  },
  {
   "cell_type": "code",
   "execution_count": 71,
   "metadata": {},
   "outputs": [],
   "source": [
    "#Split samples - one for which the region is Wester Europe and another for all other regions\n",
    "owner = df_3[df_3['Title'] == 'Owner']\n",
    "not_owner = df_3[df_3['Title']  != 'Owner']"
   ]
  },
  {
   "cell_type": "code",
   "execution_count": 72,
   "metadata": {},
   "outputs": [
    {
     "data": {
      "text/plain": [
       "<matplotlib.legend.Legend at 0x1a2408c2b0>"
      ]
     },
     "execution_count": 72,
     "metadata": {},
     "output_type": "execute_result"
    },
    {
     "data": {
      "image/png": "[encoded data removed]",
      "text/plain": [
       "<Figure size 1080x648 with 2 Axes>"
      ]
     },
     "metadata": {},
     "output_type": "display_data"
    }
   ],
   "source": [
    "#Plot distributions\n",
    "fig, (ax1, ax2) = plt.subplots(figsize = (15,9), sharey = True, nrows = 1, ncols = 2)\n",
    "#Plot Western Europe distribution\n",
    "ax1.hist(owner['Quantity'], color = 'blue', label = 'Owner', bins = 15)\n",
    "#Plot not Western Europ distribution\n",
    "ax2.hist(not_owner['Quantity'], color = 'red', label = 'not Owner', bins = 15)\n",
    "fig.legend()"
   ]
  },
  {
   "cell_type": "code",
   "execution_count": 73,
   "metadata": {},
   "outputs": [
    {
     "data": {
      "text/plain": [
       "Ttest_indResult(statistic=-1.6970492705228857, pvalue=0.09100807943125604)"
      ]
     },
     "execution_count": 73,
     "metadata": {},
     "output_type": "execute_result"
    }
   ],
   "source": [
    "#Find T statistic and pvalue using scipy.stats\n",
    "stats.ttest_ind(owner['Quantity'], not_owner['Quantity'], equal_var = False)"
   ]
  },
  {
   "cell_type": "code",
   "execution_count": 74,
   "metadata": {},
   "outputs": [
    {
     "data": {
      "text/plain": [
       "-0.12376307386795218"
      ]
     },
     "execution_count": 74,
     "metadata": {},
     "output_type": "execute_result"
    }
   ],
   "source": [
    "#Find Effect Size\n",
    "cohend(owner['Quantity'], not_owner['Quantity'])"
   ]
  },
  {
   "cell_type": "markdown",
   "metadata": {},
   "source": [
    "Insignificant weak negative relationship between being an owner and quantity purchased"
   ]
  },
  {
   "cell_type": "code",
   "execution_count": null,
   "metadata": {},
   "outputs": [],
   "source": []
  }
 ],
 "metadata": {
  "kernelspec": {
   "display_name": "Python 3",
   "language": "python",
   "name": "python3"
  },
  "language_info": {
   "codemirror_mode": {
    "name": "ipython",
    "version": 3
   },
   "file_extension": ".py",
   "mimetype": "text/x-python",
   "name": "python",
   "nbconvert_exporter": "python",
   "pygments_lexer": "ipython3",
   "version": "3.6.5"
  }
 },
 "nbformat": 4,
 "nbformat_minor": 2
}
